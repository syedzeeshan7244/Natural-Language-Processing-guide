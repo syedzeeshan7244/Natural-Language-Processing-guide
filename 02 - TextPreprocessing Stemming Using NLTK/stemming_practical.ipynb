{
 "cells": [
  {
   "cell_type": "markdown",
   "metadata": {},
   "source": [
    "## Stemming \n",
    "\n",
    "Stemming is a fundamental concept in Natural Language Processing (NLP) that involves reducing words to their root or base form. The goal is to strip suffixes (and sometimes prefixes) from a word so that related words are mapped to a common stem.\n"
   ]
  },
  {
   "cell_type": "code",
   "execution_count": 16,
   "metadata": {},
   "outputs": [],
   "source": [
    "### Classification problem\n",
    "### Comments of product is a positive review of negative review. \n",
    "### Reviews ------>  eating , eat , eaten || going , gone , goes    ( eat is the root word ) \n",
    "\n",
    "words=[\"eating\",\"eats\",\"eaten\",\"writing\",\"writes\",\"programming\",\"programs\",\"history\",\"finally\",\"finalized\"]\n"
   ]
  },
  {
   "cell_type": "markdown",
   "metadata": {},
   "source": [
    "# Porter Stemmer (very popular, rule-based)\n",
    "\n",
    "Example: running → run, happily → happili\n",
    "\n",
    "Aggressive and can produce stems that are not real words."
   ]
  },
  {
   "cell_type": "code",
   "execution_count": 12,
   "metadata": {},
   "outputs": [],
   "source": [
    "from nltk.stem import PorterStemmer"
   ]
  },
  {
   "cell_type": "code",
   "execution_count": 11,
   "metadata": {},
   "outputs": [],
   "source": [
    "stemming = PorterStemmer()"
   ]
  },
  {
   "cell_type": "code",
   "execution_count": 17,
   "metadata": {},
   "outputs": [
    {
     "name": "stdout",
     "output_type": "stream",
     "text": [
      "eating ------> eat\n",
      "eats ------> eat\n",
      "eaten ------> eaten\n",
      "writing ------> write\n",
      "writes ------> write\n",
      "programming ------> program\n",
      "programs ------> program\n",
      "history ------> histori\n",
      "finally ------> final\n",
      "finalized ------> final\n"
     ]
    }
   ],
   "source": [
    "for word in words:\n",
    "    print(word+ \" ------> \" + stemming.stem(word))"
   ]
  },
  {
   "cell_type": "code",
   "execution_count": 18,
   "metadata": {},
   "outputs": [
    {
     "data": {
      "text/plain": [
       "'congrul'"
      ]
     },
     "execution_count": 18,
     "metadata": {},
     "output_type": "execute_result"
    }
   ],
   "source": [
    "stemming.stem('congrulations')"
   ]
  },
  {
   "cell_type": "code",
   "execution_count": 19,
   "metadata": {},
   "outputs": [
    {
     "data": {
      "text/plain": [
       "'sit'"
      ]
     },
     "execution_count": 19,
     "metadata": {},
     "output_type": "execute_result"
    }
   ],
   "source": [
    "stemming.stem('Sitting')"
   ]
  },
  {
   "cell_type": "markdown",
   "metadata": {},
   "source": [
    "***RegexpStemmer Class***\n",
    "\n",
    "The RegexpStemmer class in NLTK is a very simple and customizable stemmer that removes user-defined suffixes from words using regular expressions.\n",
    "\n",
    "***When to Use RegexpStemmer?***\n",
    "\n",
    "When you want lightweight, rule-based stemming.\n",
    "\n",
    "When you only need to strip a specific set of suffixes (e.g., \"-ing\", \"-ed\", \"-ly\").\n",
    "\n",
    "Useful for controlled domains where full stemmers like Porter or Snowball might be too aggressive or imprecise."
   ]
  },
  {
   "cell_type": "markdown",
   "metadata": {},
   "source": []
  },
  {
   "cell_type": "code",
   "execution_count": 20,
   "metadata": {},
   "outputs": [],
   "source": [
    "from nltk.stem import RegexpStemmer"
   ]
  },
  {
   "cell_type": "code",
   "execution_count": 29,
   "metadata": {},
   "outputs": [],
   "source": [
    "reg_stemmer= RegexpStemmer('ing$|s$|e$|able$', min=4) "
   ]
  },
  {
   "cell_type": "code",
   "execution_count": 25,
   "metadata": {},
   "outputs": [
    {
     "data": {
      "text/plain": [
       "'eat'"
      ]
     },
     "execution_count": 25,
     "metadata": {},
     "output_type": "execute_result"
    }
   ],
   "source": [
    "## reg_stemmer= RegexpStemmer('ing$|s$|e$|able$', min=4) \n",
    "## Dollar is saying remove ing if it is present in last. \n",
    "reg_stemmer.stem('eating')"
   ]
  },
  {
   "cell_type": "code",
   "execution_count": 27,
   "metadata": {},
   "outputs": [
    {
     "data": {
      "text/plain": [
       "'ingeat'"
      ]
     },
     "execution_count": 27,
     "metadata": {},
     "output_type": "execute_result"
    }
   ],
   "source": [
    "reg_stemmer.stem('ingeating')"
   ]
  },
  {
   "cell_type": "code",
   "execution_count": 31,
   "metadata": {},
   "outputs": [
    {
     "data": {
      "text/plain": [
       "'eat'"
      ]
     },
     "execution_count": 31,
     "metadata": {},
     "output_type": "execute_result"
    }
   ],
   "source": [
    "## reg_stemmer= RegexpStemmer('ing|s$|e$|able$', min=4)   Using this expression \n",
    "## removing dollar will make it check of removing ing from uper and lower\n",
    "reg_stemmer.stem('ingeating')"
   ]
  },
  {
   "cell_type": "markdown",
   "metadata": {},
   "source": [
    "## Snowball Stemmer  \n",
    "\n",
    "It is better than porter stemmer,  It gives the better accuracy than porter stemmer. \n",
    "\n",
    "❄️ ***Snowball Stemmer in NLP***\n",
    "\n",
    "The Snowball Stemmer is a more advanced and improved version of the Porter Stemmer, developed by the same author, Martin Porter. It's sometimes referred to as \"Porter2\", and it's part of the Snowball stemming framework that supports multiple languages.\n",
    "\n",
    "✅ **Why Use Snowball Over Porter?**\n",
    "\n",
    "| Feature          | Snowball Stemmer                | Porter Stemmer         |\n",
    "| ---------------- | ------------------------------- | ---------------------- |\n",
    "| Accuracy         | Higher, more consistent         | Lower                  |\n",
    "| Language support | Multiple languages              | English only           |\n",
    "| Code structure   | Cleaner and more maintainable   | Older, less flexible   |\n",
    "| Resulting stems  | Often more linguistically valid | Can be over-aggressive |\n",
    "\n",
    "\n"
   ]
  },
  {
   "cell_type": "markdown",
   "metadata": {},
   "source": []
  },
  {
   "cell_type": "code",
   "execution_count": 33,
   "metadata": {},
   "outputs": [],
   "source": [
    "from nltk.stem import SnowballStemmer"
   ]
  },
  {
   "cell_type": "code",
   "execution_count": 34,
   "metadata": {},
   "outputs": [],
   "source": [
    "snow = SnowballStemmer('english')"
   ]
  },
  {
   "cell_type": "code",
   "execution_count": 36,
   "metadata": {},
   "outputs": [
    {
     "name": "stdout",
     "output_type": "stream",
     "text": [
      "eating-------> eat\n",
      "eats-------> eat\n",
      "eaten-------> eaten\n",
      "writing-------> write\n",
      "writes-------> write\n",
      "programming-------> program\n",
      "programs-------> program\n",
      "history-------> histori\n",
      "finally-------> final\n",
      "finalized-------> final\n"
     ]
    }
   ],
   "source": [
    "for word in words:\n",
    "    print(word+ \"-------> \" +snow.stem(word))"
   ]
  },
  {
   "cell_type": "code",
   "execution_count": 40,
   "metadata": {},
   "outputs": [
    {
     "data": {
      "text/plain": [
       "('fairli', 'sportingli')"
      ]
     },
     "execution_count": 40,
     "metadata": {},
     "output_type": "execute_result"
    }
   ],
   "source": [
    "## Porter Stemmer \n",
    "stemming.stem(\"fairly\"),stemming.stem(\"sportingly\"),"
   ]
  },
  {
   "cell_type": "code",
   "execution_count": 38,
   "metadata": {},
   "outputs": [
    {
     "data": {
      "text/plain": [
       "('fair', 'sport')"
      ]
     },
     "execution_count": 38,
     "metadata": {},
     "output_type": "execute_result"
    }
   ],
   "source": [
    "## Snow Stemmer -- Snow stemmer is giving very good output\n",
    "snow.stem(\"fairly\"),snow.stem(\"sportingly\")"
   ]
  }
 ],
 "metadata": {
  "kernelspec": {
   "display_name": "myenv",
   "language": "python",
   "name": "python3"
  },
  "language_info": {
   "codemirror_mode": {
    "name": "ipython",
    "version": 3
   },
   "file_extension": ".py",
   "mimetype": "text/x-python",
   "name": "python",
   "nbconvert_exporter": "python",
   "pygments_lexer": "ipython3",
   "version": "3.12.7"
  }
 },
 "nbformat": 4,
 "nbformat_minor": 2
}
